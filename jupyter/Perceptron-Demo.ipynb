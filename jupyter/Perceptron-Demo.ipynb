{
 "cells": [
  {
   "cell_type": "markdown",
   "metadata": {},
   "source": [
    "# Perceptron linear classifier demo"
   ]
  },
  {
   "cell_type": "code",
   "execution_count": 92,
   "metadata": {
    "collapsed": false
   },
   "outputs": [],
   "source": [
    "import matplotlib.pyplot as plt\n",
    "import numpy as np\n",
    "import random\n",
    "\n",
    "class Perceptron:\n",
    "    '''Single layer perceptron binary classifier.'''\n",
    "    \n",
    "    def __init__(self, input_dim, weights=None, bias=0.):\n",
    "        self.input_dim = input_dim\n",
    "        \n",
    "        if weights:\n",
    "            if len(weights) != input_dim:\n",
    "                raise ValueError(\"Weights have the wrong dimension ({0} passed, {1} required).\".format(len(weights), input_dim))\n",
    "            else:\n",
    "                self.weights = np.append([bias], weights)\n",
    "        else:\n",
    "            self.weights = np.zeros(input_dim + 1)\n",
    "        \n",
    "    def feed(self, input):\n",
    "        '''Return the binary classification of an input vector.\n",
    "        \n",
    "        Parameter `input` is array-like.'''\n",
    "        net = np.dot(self.weights, np.insert(input, 0, 1))\n",
    "        return int(net >= 0)\n",
    "        \n",
    "    def train(self, inputs, classes, steps, rate):\n",
    "        for step in range(steps):\n",
    "            i = random.randrange(len(inputs))\n",
    "            x = inputs[i]\n",
    "            y = self.feed(x)\n",
    "            self.weights += rate * (classes[i] - y) * np.append([1], x)\n",
    "    \n",
    "    def __repr__(self):\n",
    "        return \"Perceptron(input_dim={0}, weights={1}, bias={2})\".format(self.input_dim, self.weights[1:], self.weights[0])"
   ]
  },
  {
   "cell_type": "code",
   "execution_count": 102,
   "metadata": {
    "collapsed": false
   },
   "outputs": [],
   "source": [
    "# Linearly separable test data in R^2\n",
    "m = random.uniform(-1,1)\n",
    "c = random.uniform(-2,2)\n",
    "f = lambda x: m*x + c\n",
    "g = lambda x: f(x[0]) - x[1]\n",
    "N = 500  # number of data points\n",
    "inputs = [(random.uniform(-10, 10), random.uniform(-10,10)) for i in range(N)]\n",
    "classes = list(map(lambda x: int(g(x) >= 0), inputs))"
   ]
  },
  {
   "cell_type": "code",
   "execution_count": 125,
   "metadata": {
    "collapsed": true
   },
   "outputs": [],
   "source": [
    "# Classify\n",
    "p = Perceptron(2)\n",
    "p.train(inputs, classes, 5*N, 2)"
   ]
  },
  {
   "cell_type": "code",
   "execution_count": 128,
   "metadata": {
    "collapsed": false
   },
   "outputs": [],
   "source": [
    "# Visualize data:\n",
    "\n",
    "# Original classes\n",
    "xs, ys = list(zip(*inputs))\n",
    "fig = plt.figure()\n",
    "ax = fig.add_subplot(121)\n",
    "for i in range(len(inputs)):\n",
    "    ax.plot([inputs[i][0]], [inputs[i][1]], 'ro' if classes[i] == 1 else 'bo')\n",
    "ax.plot([-10, 10], [f(-10), f(10)], color='0.', ls='dashed')\n",
    "ax.set_title('True classes')\n",
    "\n",
    "# Classified\n",
    "classified = list(map(lambda x: p.feed(x), inputs))\n",
    "ax = fig.add_subplot(122)\n",
    "for i in range(len(inputs)):\n",
    "    ax.plot([inputs[i][0]], [inputs[i][1]], 'ro' if classified[i] == 1 else 'bo')\n",
    "ax.plot([-10, 10], [f(-10), f(10)], color='0.', ls='dashed')\n",
    "ax.set_title('Perceptron classified')\n",
    "plt.show()"
   ]
  },
  {
   "cell_type": "code",
   "execution_count": null,
   "metadata": {
    "collapsed": true
   },
   "outputs": [],
   "source": []
  }
 ],
 "metadata": {
  "kernelspec": {
   "display_name": "Python 3",
   "language": "python",
   "name": "python3"
  },
  "language_info": {
   "codemirror_mode": {
    "name": "ipython",
    "version": 3
   },
   "file_extension": ".py",
   "mimetype": "text/x-python",
   "name": "python",
   "nbconvert_exporter": "python",
   "pygments_lexer": "ipython3",
   "version": "3.4.3"
  }
 },
 "nbformat": 4,
 "nbformat_minor": 0
}
