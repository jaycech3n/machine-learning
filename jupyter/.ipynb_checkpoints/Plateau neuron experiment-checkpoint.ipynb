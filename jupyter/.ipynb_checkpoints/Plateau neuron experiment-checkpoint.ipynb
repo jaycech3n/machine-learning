{
 "cells": [
  {
   "cell_type": "code",
   "execution_count": 37,
   "metadata": {
    "collapsed": false
   },
   "outputs": [],
   "source": [
    "# An experiment towards implementing an 8-1-8 encoder as an MLP.\n",
    "\n",
    "import matplotlib.pyplot as plt\n",
    "import numpy as np\n",
    "import random\n",
    "\n",
    "class PlateauNeuron:\n",
    "    '''Neuron with plateau transfer function of width 1 centered at `center`.\n",
    "    Only has weights for each input connection, no bias.'''\n",
    "    \n",
    "    def __init__(self, input_dim, weights=None, center=0.):\n",
    "        self.input_dim = input_dim\n",
    "        \n",
    "        if weights:\n",
    "            if len(weights) != input_dim:\n",
    "                raise ValueError(\"Weights have the wrong dimension ({0} passed, {1} required).\".format(len(weights), input_dim))\n",
    "            else:\n",
    "                self.weights = np.array(weights)\n",
    "        else:\n",
    "            self.weights = np.zeros(input_dim)\n",
    "            \n",
    "        self.center = center\n",
    "        \n",
    "    def transfer(self, net):\n",
    "        return 1 if abs(net - self.center) <= 0.5 else 0\n",
    "        \n",
    "    def feed(self, x):\n",
    "        net = np.dot(self.weights, np.array(x))\n",
    "        return self.transfer(net)\n",
    "        \n",
    "    def train(self, inputs, classes, steps, rate):\n",
    "        for step in range(steps):\n",
    "            i = random.randrange(len(inputs))\n",
    "            x = inputs[i]\n",
    "            y = self.feed(x)\n",
    "            self.weights += rate * (classes[i] - y) * np.append([1], x)\n",
    "    \n",
    "    def __repr__(self):\n",
    "        return \"PlateauNeuron(input_dim={0}, weights={1}, center={2})\".format(self.input_dim, self.weights, self.center)"
   ]
  },
  {
   "cell_type": "code",
   "execution_count": 56,
   "metadata": {
    "collapsed": false
   },
   "outputs": [
    {
     "data": {
      "text/plain": [
       "[1]"
      ]
     },
     "execution_count": 56,
     "metadata": {},
     "output_type": "execute_result"
    }
   ],
   "source": [
    "p = PlateauNeuron(1, [1])\n",
    "p.weights"
   ]
  },
  {
   "cell_type": "code",
   "execution_count": 65,
   "metadata": {
    "collapsed": false
   },
   "outputs": [
    {
     "data": {
      "text/plain": [
       "1"
      ]
     },
     "execution_count": 65,
     "metadata": {},
     "output_type": "execute_result"
    }
   ],
   "source": [
    "p.feed(0.50000)"
   ]
  },
  {
   "cell_type": "code",
   "execution_count": null,
   "metadata": {
    "collapsed": true
   },
   "outputs": [],
   "source": []
  }
 ],
 "metadata": {
  "kernelspec": {
   "display_name": "Python 3",
   "language": "python",
   "name": "python3"
  },
  "language_info": {
   "codemirror_mode": {
    "name": "ipython",
    "version": 3
   },
   "file_extension": ".py",
   "mimetype": "text/x-python",
   "name": "python",
   "nbconvert_exporter": "python",
   "pygments_lexer": "ipython3",
   "version": "3.4.3"
  }
 },
 "nbformat": 4,
 "nbformat_minor": 0
}
